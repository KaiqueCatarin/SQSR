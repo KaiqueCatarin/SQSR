{
 "cells": [
  {
   "cell_type": "code",
   "execution_count": 1,
   "metadata": {},
   "outputs": [
    {
     "name": "stderr",
     "output_type": "stream",
     "text": [
      "Fetching PUUIDs: 100%|██████████| 205/205 [03:36<00:00,  1.05s/summonerId]"
     ]
    },
    {
     "name": "stdout",
     "output_type": "stream",
     "text": [
      "                                          summonerId  \\\n",
      "0    _fnScKadKNbKQovSJDPLDGY5IlzhuvWmJANbIscjf3RnUtc   \n",
      "1    LmA2XeOkbKnitfif8apk8mUipTgoJxim41X60Rq5e7l5JF8   \n",
      "2    tppRxyf3m5W7nP5Qkbz83ZLzR_5yKo7V5hkujXcr1ES8JH8   \n",
      "3    yST71AQ3hTsngdOMubZCAiKY1kvXvzHh9aHmaqd1_SvXItQ   \n",
      "4    Q1DDP5_3qDeD2mk6vWPTTpNYDn4MACabilz9PxeDycv7A1k   \n",
      "..                                               ...   \n",
      "200  6HBFGoeLtQkNgtT5eLTFJ-OyJnpjF4HxJS3nEYQRUef6x9E   \n",
      "201  RRq5QmAO4z8j5pwX3O5_Qu-YfXT_osLnxZ9hGg1KcnYx_Wk   \n",
      "202  nEjWtjwOrTTKL9mDypFuO3pEt41IGgUifCD-ii8kMtoS5LE   \n",
      "203  UPWe3g8qgvHcWyet2SoDWRZBWO7I4rfNA0HgBHztUuNXujU   \n",
      "204  LJwWUJgQGYKixSmchjAUPVsvBMthb086hARmn41jdlwGOCA   \n",
      "\n",
      "                                                 puuid  \n",
      "0    bde2Ss0TBM-PAUkbP3gBxpELAM5ho6GMC5jgCvic5mQ4Tr...  \n",
      "1    3w3e2I0ItmSwKUtB87ASHnF7UKWvcF-XlxOWzuVMBub_bv...  \n",
      "2    iWBUKiraPtA1pTyAs0amw0CmAZYWmoplUiLugG2HgC_YPh...  \n",
      "3    Th1-8DOc-nXyPQUBQf9M4uqwtlCFu6BWpyudv5TQG7k7l3...  \n",
      "4    RhlWOrZaBjtsn6g0m-nYnigDVRsa2Nl5EVXvTRAOKaM6go...  \n",
      "..                                                 ...  \n",
      "200  PftNyYxATAHYmamOLYXBXhE_EvZPiHvTj08ppEnZZiFbTi...  \n",
      "201  gLLeGx4vxSAhHQ8BuyhlyT9I6IiMHjyj7MfXqAkguBS70I...  \n",
      "202  ZmUfIKfVit7bwxKOvju5gtQPTmpK9g00CVttSHYYRcrH0Y...  \n",
      "203  YGljCvsf6IaY9qSnrvLKaTw8PaYZJMgzNx4ry3OmOIJ1Zy...  \n",
      "204  Ee4QjK1owQDtLolswuW4cAN6jcxzepimr1E0karHtvxy4w...  \n",
      "\n",
      "[205 rows x 2 columns]\n"
     ]
    },
    {
     "name": "stderr",
     "output_type": "stream",
     "text": [
      "\n"
     ]
    }
   ],
   "source": [
    "import os\n",
    "import asyncio\n",
    "import aiohttp\n",
    "import pandas as pd\n",
    "from sqlalchemy import create_engine\n",
    "from tqdm import tqdm\n",
    "from dotenv import load_dotenv\n",
    "from ratelimit import limits, sleep_and_retry\n",
    "\n",
    "# Load environment variables\n",
    "load_dotenv()\n",
    "api_key = os.getenv('api')\n",
    "\n",
    "# Rate limit parameters\n",
    "RATE_LIMIT = 100  # 100 requests per minute\n",
    "TIME_WINDOW = 60  # 60 seconds\n",
    "\n",
    "# Database connection\n",
    "engine = create_engine('mssql+pyodbc://Revision-PC\\\\SQLEXPRESS/RiotDataDB?driver=ODBC+Driver+17+for+SQL+Server')\n",
    "\n",
    "# Decorator to handle rate limiting\n",
    "@sleep_and_retry\n",
    "@limits(calls=RATE_LIMIT, period=TIME_WINDOW)\n",
    "async def fetch_puuid(session, summoner_id):\n",
    "    api_puuid = f\"https://br1.api.riotgames.com/lol/summoner/v4/summoners/{summoner_id}?api_key={api_key}\"\n",
    "    async with session.get(api_puuid) as response:\n",
    "        response.raise_for_status()\n",
    "        puuid_json = await response.json()\n",
    "        return puuid_json.get('puuid', None)\n",
    "\n",
    "async def fetch_all_puuids(session, summoner_ids):\n",
    "    tasks = [fetch_puuid(session, summoner_id) for summoner_id in summoner_ids]\n",
    "    return await asyncio.gather(*tasks)\n",
    "\n",
    "async def main():\n",
    "    # Get the desired league from user input\n",
    "    liga = input(\"Insira a liga desejada: \").upper()\n",
    "    api_liga = f\"https://br1.api.riotgames.com/lol/league/v4/entries/RANKED_SOLO_5x5/{liga}/I?api_key={api_key}\"\n",
    "    \n",
    "    # Fetch summoner IDs from the league\n",
    "    async with aiohttp.ClientSession() as session:\n",
    "        async with session.get(api_liga) as liga_resposta:\n",
    "            liga_resposta.raise_for_status()\n",
    "            liga_json = await liga_resposta.json()\n",
    "\n",
    "    summoner_ids = [entry['summonerId'] for entry in liga_json]\n",
    "    df_liga = pd.DataFrame(summoner_ids, columns=['summonerId'])\n",
    "\n",
    "    # Fetch PUUIDs asynchronously\n",
    "    async with aiohttp.ClientSession() as session:\n",
    "        puuids = await fetch_all_puuids(session, tqdm(df_liga['summonerId'], desc=\"Fetching PUUIDs\", unit=\"summonerId\"))\n",
    "    \n",
    "    # Add the PUUIDs to the DataFrame\n",
    "    df_liga['puuid'] = puuids\n",
    "\n",
    "    # Save the DataFrame to SQL Server\n",
    "    df_liga.to_sql('SummID_PUUID', con=engine, if_exists='replace', index=False)\n",
    "    print(\"Data successfully saved to the database.\")\n",
    "\n",
    "if __name__ == \"__main__\":\n",
    "    asyncio.run(main())\n"
   ]
  }
 ],
 "metadata": {
  "kernelspec": {
   "display_name": "Python 3",
   "language": "python",
   "name": "python3"
  },
  "language_info": {
   "codemirror_mode": {
    "name": "ipython",
    "version": 3
   },
   "file_extension": ".py",
   "mimetype": "text/x-python",
   "name": "python",
   "nbconvert_exporter": "python",
   "pygments_lexer": "ipython3",
   "version": "3.11.9"
  }
 },
 "nbformat": 4,
 "nbformat_minor": 2
}
