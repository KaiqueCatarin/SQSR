{
 "cells": [
  {
   "cell_type": "code",
   "execution_count": 1,
   "metadata": {},
   "outputs": [
    {
     "name": "stdout",
     "output_type": "stream",
     "text": [
      "\n",
      "Win Rate for Mister Cricket: 50.0%\n"
     ]
    }
   ],
   "source": [
    "import pandas as pd\n",
    "from sqlalchemy import create_engine\n",
    "import os\n",
    "from dotenv import load_dotenv\n",
    "\n",
    "# Load environment variables from a .env file\n",
    "load_dotenv()\n",
    "\n",
    "# Database connection parameters\n",
    "server = '35.198.20.9'  # Your GCP SQL Server public IP\n",
    "port = 1433             # Default SQL Server port\n",
    "database = 'RiotDB'     # Your database name\n",
    "username = 'sqlserver'  # Your SQL Server username\n",
    "password = os.getenv('DB_PASSWORD')  # Retrieve password from environment variable\n",
    "\n",
    "# Check if the password was loaded\n",
    "if not password:\n",
    "    raise ValueError(\"Database password not found. Please set the DB_PASSWORD environment variable.\")\n",
    "\n",
    "# Construct the database connection string\n",
    "connection_url = (\n",
    "    f\"mssql+pyodbc://{username}:{password}@{server}:{port}/{database}\"\n",
    "    \"?driver=ODBC+Driver+18+for+SQL+Server\"\n",
    "    \"&Encrypt=yes\"\n",
    "    \"&TrustServerCertificate=yes\"\n",
    ")\n",
    "\n",
    "# Create the SQLAlchemy engine\n",
    "engine = create_engine(connection_url)\n",
    "\n",
    "# Function to calculate summoner win rate\n",
    "def get_summoner_winrate(summoner_name):\n",
    "    query = f\"\"\"\n",
    "    SELECT \n",
    "        COUNT(CASE WHEN win = 1 THEN 1 END) AS Wins,\n",
    "        COUNT(*) AS Total_Games\n",
    "    FROM Detalhes_Liga_Invocador\n",
    "    WHERE riotIdGameName = '{summoner_name}'\n",
    "    \"\"\"\n",
    "\n",
    "    # Fetch data from the database\n",
    "    df_winrate = pd.read_sql_query(query, engine)\n",
    "\n",
    "    # Calculate win rate\n",
    "    if df_winrate['Total_Games'].iloc[0] > 0:\n",
    "        win_rate = (df_winrate['Wins'].iloc[0] / df_winrate['Total_Games'].iloc[0]) * 100\n",
    "    else:\n",
    "        win_rate = 0.0\n",
    "\n",
    "    return round(win_rate, 2)\n",
    "\n",
    "# Main function to run the process\n",
    "if __name__ == \"__main__\":\n",
    "    # Get the desired summoner name as input\n",
    "    summoner_name = input(\"Enter the summoner's name: \")\n",
    "\n",
    "    # Retrieve and display the win rate\n",
    "    win_rate = get_summoner_winrate(summoner_name)\n",
    "    print(f\"\\nWin Rate for {summoner_name}: {win_rate}%\")\n"
   ]
  }
 ],
 "metadata": {
  "kernelspec": {
   "display_name": "Python 3",
   "language": "python",
   "name": "python3"
  },
  "language_info": {
   "codemirror_mode": {
    "name": "ipython",
    "version": 3
   },
   "file_extension": ".py",
   "mimetype": "text/x-python",
   "name": "python",
   "nbconvert_exporter": "python",
   "pygments_lexer": "ipython3",
   "version": "3.11.9"
  }
 },
 "nbformat": 4,
 "nbformat_minor": 2
}
