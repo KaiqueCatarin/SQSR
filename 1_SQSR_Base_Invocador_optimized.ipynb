{
 "cells": [
  {
   "cell_type": "code",
   "execution_count": 1,
   "metadata": {},
   "outputs": [
    {
     "name": "stdout",
     "output_type": "stream",
     "text": [
      "Retrieving PUUID...\n"
     ]
    },
    {
     "name": "stderr",
     "output_type": "stream",
     "text": [
      "Fetching PUUID: 100%|██████████| 1/1 [00:01<00:00,  1.42s/it]\n"
     ]
    },
    {
     "name": "stdout",
     "output_type": "stream",
     "text": [
      "PUUID retrieved successfully.\n",
      "Retrieving match IDs...\n"
     ]
    },
    {
     "name": "stderr",
     "output_type": "stream",
     "text": [
      "Fetching match IDs: 100%|██████████| 1/1 [00:01<00:00,  1.10s/it]\n"
     ]
    },
    {
     "name": "stdout",
     "output_type": "stream",
     "text": [
      "Saving match IDs to database...\n"
     ]
    },
    {
     "name": "stderr",
     "output_type": "stream",
     "text": [
      "Saving match IDs: 100%|██████████| 1/1 [00:01<00:00,  1.89s/it]\n"
     ]
    },
    {
     "name": "stdout",
     "output_type": "stream",
     "text": [
      "Match IDs saved to database.\n",
      "Retrieving match details for the last 20 ranked games...\n"
     ]
    },
    {
     "name": "stderr",
     "output_type": "stream",
     "text": [
      "Processing match IDs:  34%|███▍      | 20/59 [00:32<01:03,  1.63s/it]\n"
     ]
    },
    {
     "name": "stdout",
     "output_type": "stream",
     "text": [
      "Processing and saving match details...\n"
     ]
    },
    {
     "name": "stderr",
     "output_type": "stream",
     "text": [
      "Saving match details to database: 100%|██████████| 1/1 [00:06<00:00,  6.72s/it]"
     ]
    },
    {
     "name": "stdout",
     "output_type": "stream",
     "text": [
      "Match details saved successfully.\n"
     ]
    },
    {
     "name": "stderr",
     "output_type": "stream",
     "text": [
      "\n"
     ]
    }
   ],
   "source": [
    "import requests\n",
    "import pandas as pd\n",
    "from sqlalchemy import create_engine\n",
    "from tqdm import tqdm\n",
    "import time\n",
    "import urllib.parse\n",
    "from dotenv import load_dotenv\n",
    "import os\n",
    "from requests.exceptions import HTTPError, Timeout, RequestException\n",
    "from ratelimit import limits, sleep_and_retry\n",
    "\n",
    "# Load environment variables\n",
    "load_dotenv()\n",
    "api = os.getenv('api')\n",
    "db_password = os.getenv('DB_PASSWORD')\n",
    "\n",
    "# Database connection parameters\n",
    "server = '35.198.20.9'  # Replace with your GCP SQL Server public IP\n",
    "port = 1433\n",
    "database = 'RiotDB'     # Replace with your database name\n",
    "username = 'sqlserver'  # Replace with your username\n",
    "\n",
    "# Construct the database connection string\n",
    "connection_url = (\n",
    "    f\"mssql+pyodbc://{username}:{db_password}@{server}:{port}/{database}\"\n",
    "    \"?driver=ODBC+Driver+18+for+SQL+Server\"\n",
    "    \"&Encrypt=yes\"\n",
    "    \"&TrustServerCertificate=yes\"\n",
    ")\n",
    "\n",
    "# Database engine\n",
    "engine = create_engine(connection_url)\n",
    "\n",
    "# Rate limiting (100 requests per 2 minutes)\n",
    "CALLS = 100\n",
    "TIME_PERIOD = 120  # 120 seconds\n",
    "\n",
    "# Decorator to apply rate limiting\n",
    "@sleep_and_retry\n",
    "@limits(calls=CALLS, period=TIME_PERIOD)\n",
    "def call_api(url):\n",
    "    \"\"\"Calls the Riot API with the given URL and handles errors.\"\"\"\n",
    "    try:\n",
    "        response = requests.get(url)\n",
    "        response.raise_for_status()  # Raise an error for bad status codes (4xx, 5xx)\n",
    "        return response.json()\n",
    "    except HTTPError as http_err:\n",
    "        print(f\"HTTP error occurred: {http_err}\")\n",
    "    except Timeout as timeout_err:\n",
    "        print(f\"Timeout error occurred: {timeout_err}\")\n",
    "    except RequestException as req_err:\n",
    "        print(f\"Other request error occurred: {req_err}\")\n",
    "    return None\n",
    "\n",
    "def get_puuid(nome_invocador, tag_invocador):\n",
    "    \"\"\"Fetches the PUUID of the summoner based on their summoner name and tag.\"\"\"\n",
    "    encoded_name = urllib.parse.quote(nome_invocador)\n",
    "    api_invocador = f\"https://americas.api.riotgames.com/riot/account/v1/accounts/by-riot-id/{encoded_name}/{tag_invocador}?api_key={api}\"\n",
    "    response = call_api(api_invocador)\n",
    "    return response.get('puuid') if response else None\n",
    "\n",
    "def get_match_ids(puuid_invocador):\n",
    "    \"\"\"Retrieves the last 100 match IDs for a given PUUID.\"\"\"\n",
    "    api_partidas = f\"https://americas.api.riotgames.com/lol/match/v5/matches/by-puuid/{puuid_invocador}/ids?start=0&count=100&api_key={api}\"\n",
    "    return call_api(api_partidas)\n",
    "\n",
    "def fetch_match_details(match_id):\n",
    "    \"\"\"Fetches match details for a specific match ID.\"\"\"\n",
    "    api_match_details = f\"https://americas.api.riotgames.com/lol/match/v5/matches/{match_id}?api_key={api}\"\n",
    "    return call_api(api_match_details)\n",
    "\n",
    "def main():\n",
    "    # Extract the summoner's PUUID\n",
    "    nome_invocador = input(\"Escreva o nome do invocador: \")\n",
    "    tag_invocador = input(\"Digite a tag do invocador: \")\n",
    "\n",
    "    print(\"Retrieving PUUID...\")\n",
    "    with tqdm(total=1, desc=\"Fetching PUUID\") as pbar:\n",
    "        puuid_invocador = get_puuid(nome_invocador, tag_invocador)\n",
    "        pbar.update(1)\n",
    "\n",
    "    if puuid_invocador:\n",
    "        print(\"PUUID retrieved successfully.\")\n",
    "        \n",
    "        # Extract the last 100 match IDs\n",
    "        print(\"Retrieving match IDs...\")\n",
    "        match_ids = []\n",
    "        with tqdm(total=1, desc=\"Fetching match IDs\") as pbar:\n",
    "            match_ids = get_match_ids(puuid_invocador)\n",
    "            pbar.update(1)\n",
    "\n",
    "        if match_ids:\n",
    "            print(\"Saving match IDs to database...\")\n",
    "            with tqdm(total=1, desc=\"Saving match IDs\") as pbar:\n",
    "                df_match_id = pd.DataFrame(match_ids, columns=['Match_ID'])\n",
    "                df_match_id.to_sql('MatchID_Invocador', con=engine, if_exists='replace', index=False)\n",
    "                pbar.update(1)\n",
    "            print(\"Match IDs saved to database.\")\n",
    "        else:\n",
    "            print(\"No match IDs retrieved.\")\n",
    "            return\n",
    "\n",
    "        # Retrieve match details for the match IDs and filter for the last 20 ranked games (queueId == 420)\n",
    "        print(\"Retrieving match details for the last 20 ranked games...\")\n",
    "        details_match = []\n",
    "        ranked_games_collected = 0  # Counter to stop at 20 ranked games\n",
    "\n",
    "        for match_id in tqdm(match_ids, desc=\"Processing match IDs\"):\n",
    "            if ranked_games_collected >= 20:\n",
    "                break  # Stop once we have 20 ranked games\n",
    "\n",
    "            match_detail = fetch_match_details(match_id)\n",
    "            if match_detail:\n",
    "                queue_id = match_detail.get('info', {}).get('queueId')\n",
    "                participants = match_detail.get('info', {}).get('participants', [])\n",
    "                participants_df = pd.json_normalize(participants)\n",
    "                participants_df.insert(0, 'Match_ID', match_id)\n",
    "\n",
    "                if queue_id == 420:  # Only ranked solo queue\n",
    "                    details_match.append(participants_df)\n",
    "                    ranked_games_collected += 1  # Increment the counter\n",
    "\n",
    "            time.sleep(0.5)  # Respect API request limit\n",
    "\n",
    "        # Concatenate and save match details to the database\n",
    "        print(\"Processing and saving match details...\")\n",
    "        if details_match:\n",
    "            with tqdm(total=1, desc=\"Saving match details to database\") as pbar:\n",
    "                df_matchdetails = pd.concat(details_match, ignore_index=True)\n",
    "                df_matchdetails.to_sql('Detalhes_Liga_Invocador', con=engine, if_exists='replace', index=False)\n",
    "                pbar.update(1)\n",
    "            print(\"Match details saved successfully.\")\n",
    "        else:\n",
    "            print(\"No valid match details found.\")\n",
    "\n",
    "    else:\n",
    "        print(\"Failed to retrieve PUUID for the summoner.\")\n",
    "\n",
    "if __name__ == \"__main__\":\n",
    "    main()\n"
   ]
  }
 ],
 "metadata": {
  "kernelspec": {
   "display_name": "Python 3",
   "language": "python",
   "name": "python3"
  },
  "language_info": {
   "codemirror_mode": {
    "name": "ipython",
    "version": 3
   },
   "file_extension": ".py",
   "mimetype": "text/x-python",
   "name": "python",
   "nbconvert_exporter": "python",
   "pygments_lexer": "ipython3",
   "version": "3.11.9"
  }
 },
 "nbformat": 4,
 "nbformat_minor": 2
}
